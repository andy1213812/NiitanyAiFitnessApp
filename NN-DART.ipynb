{
 "cells": [
  {
   "cell_type": "code",
   "execution_count": 11,
   "metadata": {},
   "outputs": [],
   "source": [
    "import pandas as pd\n",
    "from sklearn.preprocessing import StandardScaler\n",
    "# Paths to your datasets\n",
    "correct_squat_1_path = \"Clean_Dataset/Correct_Squat_1.xlsx\"\n",
    "correct_squat_2_path = \"Clean_Dataset/Correct_Squat_2.xlsx\"\n",
    "incorrect_squat_1_path = \"Clean_Dataset/Incorrect_Squat_1.xlsx\"\n",
    "incorrect_squat_2_path = \"Clean_Dataset/Incorrect_Squat_2.xlsx\"\n",
    "\n",
    "# Load the datasets\n",
    "correct_squat_1 = pd.read_excel(correct_squat_1_path)\n",
    "correct_squat_2 = pd.read_excel(correct_squat_2_path)\n",
    "incorrect_squat_1 = pd.read_excel(incorrect_squat_1_path)\n",
    "incorrect_squat_2 = pd.read_excel(incorrect_squat_2_path)\n",
    "\n",
    "# Optionally add a 'Label' column if your datasets don't already include it\n",
    "correct_squat_1['Label'] = 1\n",
    "correct_squat_2['Label'] = 1\n",
    "incorrect_squat_1['Label'] = 0\n",
    "incorrect_squat_2['Label'] = 0\n",
    "\n",
    "# Combine the datasets\n",
    "all_data = pd.concat([correct_squat_1, correct_squat_2, incorrect_squat_1, incorrect_squat_2], ignore_index=True)\n",
    "\n",
    "features = all_data.drop('Label', axis=1)\n",
    "scaler = StandardScaler()\n",
    "features_normalized = scaler.fit_transform(features)\n",
    "\n"
   ]
  },
  {
   "cell_type": "markdown",
   "metadata": {},
   "source": [
    "##### Data Processing "
   ]
  },
  {
   "cell_type": "code",
   "execution_count": 12,
   "metadata": {},
   "outputs": [],
   "source": [
    "from sklearn.preprocessing import StandardScaler\n",
    "from sklearn.model_selection import train_test_split\n",
    "\n",
    "features = all_data.drop('Label', axis=1)\n",
    "labels = all_data['Label']\n",
    "\n",
    "scaler = StandardScaler()\n",
    "features_normalized = scaler.fit_transform(features)\n",
    "\n",
    "X_train, X_test, y_train, y_test = train_test_split(features_normalized, labels, test_size=0.2, random_state=42)"
   ]
  },
  {
   "cell_type": "markdown",
   "metadata": {},
   "source": [
    "##### Define and Train the Neural Network Models"
   ]
  },
  {
   "cell_type": "code",
   "execution_count": 13,
   "metadata": {},
   "outputs": [
    {
     "name": "stdout",
     "output_type": "stream",
     "text": [
      "Epoch 1/10\n"
     ]
    },
    {
     "name": "stderr",
     "output_type": "stream",
     "text": [
      "/Library/Frameworks/Python.framework/Versions/3.10/lib/python3.10/site-packages/keras/src/engine/data_adapter.py:1808: FutureWarning: The behavior of `series[i:j]` with an integer-dtype index is deprecated. In a future version, this will be treated as *label-based* indexing, consistent with e.g. `series[i]` lookups. To retain the old behavior, use `series.iloc[i:j]`. To get the future behavior, use `series.loc[i:j]`.\n",
      "  return t[start:end]\n"
     ]
    },
    {
     "name": "stdout",
     "output_type": "stream",
     "text": [
      "31/31 [==============================] - 1s 6ms/step - loss: 0.6489 - accuracy: 0.5934 - val_loss: 0.6171 - val_accuracy: 0.5688\n",
      "Epoch 2/10\n",
      "31/31 [==============================] - 0s 2ms/step - loss: 0.5928 - accuracy: 0.6283 - val_loss: 0.5679 - val_accuracy: 0.6789\n",
      "Epoch 3/10\n",
      "31/31 [==============================] - 0s 2ms/step - loss: 0.5478 - accuracy: 0.7372 - val_loss: 0.5217 - val_accuracy: 0.7615\n",
      "Epoch 4/10\n",
      "31/31 [==============================] - 0s 2ms/step - loss: 0.5039 - accuracy: 0.7885 - val_loss: 0.4719 - val_accuracy: 0.8165\n",
      "Epoch 5/10\n",
      "31/31 [==============================] - 0s 3ms/step - loss: 0.4627 - accuracy: 0.8255 - val_loss: 0.4196 - val_accuracy: 0.8440\n",
      "Epoch 6/10\n",
      "31/31 [==============================] - 0s 3ms/step - loss: 0.4257 - accuracy: 0.8511 - val_loss: 0.3800 - val_accuracy: 0.8624\n",
      "Epoch 7/10\n",
      "31/31 [==============================] - 0s 2ms/step - loss: 0.3908 - accuracy: 0.8614 - val_loss: 0.3473 - val_accuracy: 0.8532\n",
      "Epoch 8/10\n",
      "31/31 [==============================] - 0s 2ms/step - loss: 0.3622 - accuracy: 0.8706 - val_loss: 0.3201 - val_accuracy: 0.8807\n",
      "Epoch 9/10\n",
      "31/31 [==============================] - 0s 2ms/step - loss: 0.3434 - accuracy: 0.8604 - val_loss: 0.2917 - val_accuracy: 0.8899\n",
      "Epoch 10/10\n",
      "31/31 [==============================] - 0s 2ms/step - loss: 0.3225 - accuracy: 0.8768 - val_loss: 0.2773 - val_accuracy: 0.8807\n"
     ]
    },
    {
     "data": {
      "text/plain": [
       "<keras.src.callbacks.History at 0x158065990>"
      ]
     },
     "execution_count": 13,
     "metadata": {},
     "output_type": "execute_result"
    }
   ],
   "source": [
    "from keras.models import Sequential\n",
    "from keras.layers import Dense\n",
    "\n",
    "def create_model(input_shape):\n",
    "    model = Sequential([\n",
    "        Dense(64, activation='relu', input_shape=(input_shape,)),\n",
    "        Dense(32, activation='relu'),\n",
    "        Dense(1, activation='sigmoid')\n",
    "    ])\n",
    "    model.compile(optimizer='adam', loss='binary_crossentropy', metrics=['accuracy'])\n",
    "    return model\n",
    "\n",
    "model = create_model(X_train.shape[1])\n",
    "model.fit(X_train, y_train, epochs=10, validation_split=0.1)\n"
   ]
  },
  {
   "cell_type": "markdown",
   "metadata": {},
   "source": [
    "##### Printing performance"
   ]
  },
  {
   "cell_type": "code",
   "execution_count": 14,
   "metadata": {},
   "outputs": [
    {
     "name": "stdout",
     "output_type": "stream",
     "text": [
      "9/9 [==============================] - 0s 1ms/step - loss: 0.3084 - accuracy: 0.9077\n",
      "Test Accuracy: 0.9077490568161011\n"
     ]
    }
   ],
   "source": [
    "test_loss, test_acc = model.evaluate(X_test, y_test)\n",
    "print(f\"Test Accuracy: {test_acc}\")"
   ]
  }
 ],
 "metadata": {
  "kernelspec": {
   "display_name": "Python 3",
   "language": "python",
   "name": "python3"
  },
  "language_info": {
   "codemirror_mode": {
    "name": "ipython",
    "version": 3
   },
   "file_extension": ".py",
   "mimetype": "text/x-python",
   "name": "python",
   "nbconvert_exporter": "python",
   "pygments_lexer": "ipython3",
   "version": "3.10.2"
  }
 },
 "nbformat": 4,
 "nbformat_minor": 2
}
