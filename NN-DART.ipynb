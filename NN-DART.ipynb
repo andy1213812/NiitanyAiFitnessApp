{
 "cells": [
  {
   "cell_type": "code",
   "execution_count": 2,
   "metadata": {},
   "outputs": [],
   "source": [
    "import pandas as pd\n",
    "from sklearn.preprocessing import StandardScaler\n",
    "# Paths to your datasets\n",
    "correct_squat_1_path = \"Clean_Dataset/Correct_Squat_1.xlsx\"\n",
    "correct_squat_2_path = \"Clean_Dataset/Correct_Squat_2.xlsx\"\n",
    "incorrect_squat_1_path = \"Clean_Dataset/Incorrect_Squat_1.xlsx\"\n",
    "incorrect_squat_2_path = \"Clean_Dataset/Incorrect_Squat_2.xlsx\"\n",
    "\n",
    "# Load the datasets\n",
    "correct_squat_1 = pd.read_excel(correct_squat_1_path)\n",
    "correct_squat_2 = pd.read_excel(correct_squat_2_path)\n",
    "incorrect_squat_1 = pd.read_excel(incorrect_squat_1_path)\n",
    "incorrect_squat_2 = pd.read_excel(incorrect_squat_2_path)\n",
    "\n",
    "# Optionally add a 'Label' column if your datasets don't already include it\n",
    "correct_squat_1['Label'] = 1\n",
    "correct_squat_2['Label'] = 1\n",
    "incorrect_squat_1['Label'] = 0\n",
    "incorrect_squat_2['Label'] = 0\n",
    "\n",
    "# Combine the datasets\n",
    "all_data = pd.concat([correct_squat_1, correct_squat_2, incorrect_squat_1, incorrect_squat_2], ignore_index=True)\n",
    "\n",
    "features = all_data.drop('Label', axis=1)\n",
    "scaler = StandardScaler()\n",
    "features_normalized = scaler.fit_transform(features)"
   ]
  },
  {
   "cell_type": "markdown",
   "metadata": {},
   "source": [
    "##### Data Processing "
   ]
  },
  {
   "cell_type": "code",
   "execution_count": 3,
   "metadata": {},
   "outputs": [],
   "source": [
    "from sklearn.preprocessing import StandardScaler\n",
    "from sklearn.model_selection import train_test_split\n",
    "\n",
    "features = all_data.drop('Label', axis=1)\n",
    "labels = all_data['Label']\n",
    "scaler = StandardScaler()\n",
    "features_normalized = scaler.fit_transform(features)\n",
    "\n",
    "X_train, X_test, y_train, y_test = train_test_split(features_normalized, labels, test_size=0.2, random_state=42)"
   ]
  },
  {
   "cell_type": "markdown",
   "metadata": {},
   "source": [
    "##### Define and Train the Neural Network Models"
   ]
  },
  {
   "cell_type": "code",
   "execution_count": 4,
   "metadata": {},
   "outputs": [
    {
     "name": "stderr",
     "output_type": "stream",
     "text": [
      "/Library/Frameworks/Python.framework/Versions/3.10/lib/python3.10/site-packages/keras/src/engine/data_adapter.py:1808: FutureWarning: The behavior of `series[i:j]` with an integer-dtype index is deprecated. In a future version, this will be treated as *label-based* indexing, consistent with e.g. `series[i]` lookups. To retain the old behavior, use `series.iloc[i:j]`. To get the future behavior, use `series.loc[i:j]`.\n",
      "  return t[start:end]\n"
     ]
    },
    {
     "name": "stdout",
     "output_type": "stream",
     "text": [
      "Epoch 1/10\n",
      "31/31 [==============================] - 1s 9ms/step - loss: 0.6593 - accuracy: 0.5595 - val_loss: 0.6344 - val_accuracy: 0.5872\n",
      "Epoch 2/10\n",
      "31/31 [==============================] - 0s 3ms/step - loss: 0.6131 - accuracy: 0.6057 - val_loss: 0.5980 - val_accuracy: 0.6514\n",
      "Epoch 3/10\n",
      "31/31 [==============================] - 0s 3ms/step - loss: 0.5770 - accuracy: 0.6869 - val_loss: 0.5572 - val_accuracy: 0.7523\n",
      "Epoch 4/10\n",
      "31/31 [==============================] - 0s 3ms/step - loss: 0.5345 - accuracy: 0.7710 - val_loss: 0.5086 - val_accuracy: 0.8257\n",
      "Epoch 5/10\n",
      "31/31 [==============================] - 0s 3ms/step - loss: 0.4911 - accuracy: 0.8193 - val_loss: 0.4617 - val_accuracy: 0.8624\n",
      "Epoch 6/10\n",
      "31/31 [==============================] - 0s 2ms/step - loss: 0.4470 - accuracy: 0.8409 - val_loss: 0.4177 - val_accuracy: 0.8532\n",
      "Epoch 7/10\n",
      "31/31 [==============================] - 0s 3ms/step - loss: 0.4131 - accuracy: 0.8593 - val_loss: 0.3811 - val_accuracy: 0.8716\n",
      "Epoch 8/10\n",
      "31/31 [==============================] - 0s 3ms/step - loss: 0.3816 - accuracy: 0.8532 - val_loss: 0.3440 - val_accuracy: 0.8807\n",
      "Epoch 9/10\n",
      "31/31 [==============================] - 0s 2ms/step - loss: 0.3585 - accuracy: 0.8593 - val_loss: 0.3168 - val_accuracy: 0.8991\n",
      "Epoch 10/10\n",
      "31/31 [==============================] - 0s 2ms/step - loss: 0.3397 - accuracy: 0.8737 - val_loss: 0.3019 - val_accuracy: 0.9083\n"
     ]
    },
    {
     "data": {
      "text/plain": [
       "<keras.src.callbacks.History at 0x15625d2a0>"
      ]
     },
     "execution_count": 4,
     "metadata": {},
     "output_type": "execute_result"
    }
   ],
   "source": [
    "from keras.models import Sequential\n",
    "from keras.layers import Dense\n",
    "\n",
    "def create_model(input_shape):\n",
    "    model = Sequential([\n",
    "        Dense(64, activation='relu', input_shape=(input_shape,)),\n",
    "        Dense(32, activation='relu'),\n",
    "        Dense(1, activation='sigmoid')\n",
    "    ])\n",
    "    model.compile(optimizer='adam', loss='binary_crossentropy', metrics=['accuracy'])\n",
    "    return model\n",
    "\n",
    "model = create_model(X_train.shape[1])\n",
    "model.fit(X_train, y_train, epochs=10, validation_split=0.1)\n"
   ]
  },
  {
   "cell_type": "markdown",
   "metadata": {},
   "source": [
    "##### Printing performance"
   ]
  },
  {
   "cell_type": "code",
   "execution_count": 5,
   "metadata": {},
   "outputs": [
    {
     "name": "stdout",
     "output_type": "stream",
     "text": [
      "9/9 [==============================] - 0s 2ms/step - loss: 0.3096 - accuracy: 0.8967\n",
      "Test Accuracy: 0.8966789841651917\n"
     ]
    }
   ],
   "source": [
    "test_loss, test_acc = model.evaluate(X_test, y_test)\n",
    "print(f\"Test Accuracy: {test_acc}\")"
   ]
  },
  {
   "cell_type": "code",
   "execution_count": 6,
   "metadata": {},
   "outputs": [
    {
     "name": "stderr",
     "output_type": "stream",
     "text": [
      "/Library/Frameworks/Python.framework/Versions/3.10/lib/python3.10/site-packages/keras/src/engine/training.py:3103: UserWarning: You are saving your model as an HDF5 file via `model.save()`. This file format is considered legacy. We recommend using instead the native Keras format, e.g. `model.save('my_model.keras')`.\n",
      "  saving_api.save_model(\n"
     ]
    }
   ],
   "source": [
    "from keras.models import load_model\n",
    "model.save('Sequential_model.h5')"
   ]
  }
 ],
 "metadata": {
  "kernelspec": {
   "display_name": "Python 3",
   "language": "python",
   "name": "python3"
  },
  "language_info": {
   "codemirror_mode": {
    "name": "ipython",
    "version": 3
   },
   "file_extension": ".py",
   "mimetype": "text/x-python",
   "name": "python",
   "nbconvert_exporter": "python",
   "pygments_lexer": "ipython3",
   "version": "3.11.6"
  }
 },
 "nbformat": 4,
 "nbformat_minor": 2
}
